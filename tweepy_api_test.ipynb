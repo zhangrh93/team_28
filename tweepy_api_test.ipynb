{
 "cells": [
  {
   "cell_type": "code",
   "execution_count": 1,
   "metadata": {
    "collapsed": true
   },
   "outputs": [],
   "source": [
    "import tweepy"
   ]
  },
  {
   "cell_type": "code",
   "execution_count": 43,
   "metadata": {
    "collapsed": true
   },
   "outputs": [],
   "source": [
    "consumer_key = \"K1pEnMZj2NhEwHZWEVF6svbHs\"\n",
    "consumer_secret = \"H4M2lJ0UUffSwurQ3iMpG1AreVgX3ZIqMAQbsHlOMr2bBy1Mdy\"\n",
    "access_token = \"985484783458271237-ldh1VGAXCUqd3SpqJi9Gs24Zv5hxj8N\"\n",
    "access_token_secret = \"Q653u45IilixFOuprEVcXGi3Jh5Uc1MLtv1SMDA9llzec\"\n",
    "\n",
    "geo = \"-27.185247,133.302139,2200km\""
   ]
  },
  {
   "cell_type": "code",
   "execution_count": 3,
   "metadata": {
    "collapsed": true
   },
   "outputs": [],
   "source": [
    "auth = tweepy.OAuthHandler(consumer_key, consumer_secret)\n",
    "auth.set_access_token(access_token, access_token_secret)\n",
    "\n",
    "#api = tweepy.API(auth,wait_on_rate_limit=True)\n",
    "api = tweepy.API(auth)"
   ]
  },
  {
   "cell_type": "code",
   "execution_count": 80,
   "metadata": {
    "collapsed": false
   },
   "outputs": [],
   "source": [
    "c = tweepy.Cursor(api.search,q=\"*\",geocode=geo).items()"
   ]
  },
  {
   "cell_type": "code",
   "execution_count": 81,
   "metadata": {
    "collapsed": false
   },
   "outputs": [
    {
     "name": "stdout",
     "output_type": "stream",
     "text": [
      "11\n"
     ]
    }
   ],
   "source": [
    "geo_t = []\n",
    "while True:\n",
    "    try:\n",
    "        t = c.next()\n",
    "        if t.geo is not None:\n",
    "            geo_t.append(t)\n",
    "    except tweepy.TweepError:\n",
    "        break\n",
    "print(len(geo_t))"
   ]
  },
  {
   "cell_type": "code",
   "execution_count": 73,
   "metadata": {
    "collapsed": false
   },
   "outputs": [
    {
     "data": {
      "text/plain": [
       "dict_keys(['created_at', 'id', 'id_str', 'text', 'truncated', 'entities', 'metadata', 'source', 'in_reply_to_status_id', 'in_reply_to_status_id_str', 'in_reply_to_user_id', 'in_reply_to_user_id_str', 'in_reply_to_screen_name', 'user', 'geo', 'coordinates', 'place', 'contributors', 'retweeted_status', 'is_quote_status', 'retweet_count', 'favorite_count', 'favorited', 'retweeted', 'lang'])"
      ]
     },
     "execution_count": 73,
     "metadata": {},
     "output_type": "execute_result"
    }
   ],
   "source": [
    "t._json.keys()"
   ]
  },
  {
   "cell_type": "code",
   "execution_count": 77,
   "metadata": {
    "collapsed": false
   },
   "outputs": [
    {
     "name": "stdout",
     "output_type": "stream",
     "text": [
      "None None None\n"
     ]
    }
   ],
   "source": [
    "print(t._json[\"geo\"], t._json[\"coordinates\"], t._json[\"place\"])"
   ]
  },
  {
   "cell_type": "code",
   "execution_count": 74,
   "metadata": {
    "collapsed": false
   },
   "outputs": [
    {
     "data": {
      "text/plain": [
       "'Perth, Western Australia'"
      ]
     },
     "execution_count": 74,
     "metadata": {},
     "output_type": "execute_result"
    }
   ],
   "source": [
    "t._json[\"retweeted_status\"][\"user\"][\"location\"]"
   ]
  },
  {
   "cell_type": "code",
   "execution_count": 96,
   "metadata": {
    "collapsed": false
   },
   "outputs": [
    {
     "data": {
      "text/plain": [
       "['__class__',\n",
       " '__delattr__',\n",
       " '__dict__',\n",
       " '__dir__',\n",
       " '__doc__',\n",
       " '__eq__',\n",
       " '__format__',\n",
       " '__ge__',\n",
       " '__getattribute__',\n",
       " '__getstate__',\n",
       " '__gt__',\n",
       " '__hash__',\n",
       " '__init__',\n",
       " '__init_subclass__',\n",
       " '__le__',\n",
       " '__lt__',\n",
       " '__module__',\n",
       " '__ne__',\n",
       " '__new__',\n",
       " '__reduce__',\n",
       " '__reduce_ex__',\n",
       " '__repr__',\n",
       " '__setattr__',\n",
       " '__sizeof__',\n",
       " '__str__',\n",
       " '__subclasshook__',\n",
       " '__weakref__',\n",
       " '_api',\n",
       " '_json',\n",
       " 'author',\n",
       " 'contributors',\n",
       " 'coordinates',\n",
       " 'created_at',\n",
       " 'destroy',\n",
       " 'entities',\n",
       " 'favorite',\n",
       " 'favorite_count',\n",
       " 'favorited',\n",
       " 'geo',\n",
       " 'id',\n",
       " 'id_str',\n",
       " 'in_reply_to_screen_name',\n",
       " 'in_reply_to_status_id',\n",
       " 'in_reply_to_status_id_str',\n",
       " 'in_reply_to_user_id',\n",
       " 'in_reply_to_user_id_str',\n",
       " 'is_quote_status',\n",
       " 'lang',\n",
       " 'metadata',\n",
       " 'parse',\n",
       " 'parse_list',\n",
       " 'place',\n",
       " 'retweet',\n",
       " 'retweet_count',\n",
       " 'retweeted',\n",
       " 'retweets',\n",
       " 'source',\n",
       " 'source_url',\n",
       " 'text',\n",
       " 'truncated',\n",
       " 'user']"
      ]
     },
     "execution_count": 96,
     "metadata": {},
     "output_type": "execute_result"
    }
   ],
   "source": [
    "t = geo_t[0]\n",
    "dir(t)"
   ]
  },
  {
   "cell_type": "code",
   "execution_count": 100,
   "metadata": {
    "collapsed": false
   },
   "outputs": [
    {
     "name": "stdout",
     "output_type": "stream",
     "text": [
      "2018-04-15 17:08:00 {'type': 'Point', 'coordinates': [-25.5791373, 99.1700851]}\n",
      "2018-04-15 17:07:12 {'type': 'Point', 'coordinates': [-8.5614582, 115.03372192]}\n",
      "2018-04-15 17:05:07 {'type': 'Point', 'coordinates': [-42.882541, 147.330281]}\n",
      "2018-04-15 17:05:06 {'type': 'Point', 'coordinates': [-8.67239383, 115.15437841]}\n",
      "2018-04-15 17:04:29 {'type': 'Point', 'coordinates': [-8.67239383, 115.15437841]}\n",
      "2018-04-15 17:04:00 {'type': 'Point', 'coordinates': [-29.6775713, 103.56792052]}\n",
      "2018-04-15 17:03:53 {'type': 'Point', 'coordinates': [-8.67239383, 115.15437841]}\n",
      "2018-04-15 17:03:20 {'type': 'Point', 'coordinates': [-8.64619568, 115.18066406]}\n",
      "2018-04-15 17:02:06 {'type': 'Point', 'coordinates': [-8.64619568, 115.18066406]}\n",
      "2018-04-15 17:01:54 {'type': 'Point', 'coordinates': [-27.45967975, 153.00208837]}\n",
      "2018-04-15 17:01:02 {'type': 'Point', 'coordinates': [-42.8487623, 147.31131415]}\n"
     ]
    }
   ],
   "source": [
    "for x in geo_t:\n",
    "    print(x.created_at, x.geo)"
   ]
  },
  {
   "cell_type": "code",
   "execution_count": null,
   "metadata": {
    "collapsed": true
   },
   "outputs": [],
   "source": []
  }
 ],
 "metadata": {
  "kernelspec": {
   "display_name": "Python [conda root]",
   "language": "python",
   "name": "conda-root-py"
  },
  "language_info": {
   "codemirror_mode": {
    "name": "ipython",
    "version": 3
   },
   "file_extension": ".py",
   "mimetype": "text/x-python",
   "name": "python",
   "nbconvert_exporter": "python",
   "pygments_lexer": "ipython3",
   "version": "3.6.0"
  }
 },
 "nbformat": 4,
 "nbformat_minor": 2
}
